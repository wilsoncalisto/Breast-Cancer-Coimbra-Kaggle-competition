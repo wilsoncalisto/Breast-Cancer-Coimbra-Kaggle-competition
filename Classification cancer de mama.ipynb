{
 "cells": [
  {
   "cell_type": "markdown",
   "metadata": {},
   "source": [
    "# Classification Seeds Data Set\n",
    "\n",
    "Na avaliação será levado em conta:\n",
    "1. Corretude das tarefas solicitadas\n",
    "2. Qualidade e boas práticas de codificação\n",
    "3. Eficiência na manipulação dos dados\n",
    "\n",
    "O objetivo deste quarto projeto prático da disciplina Redes Neurais Artificias é conduzir um processo de Aprendizado de Máquina com tarefa de classificação multiclasse que utilize redes neurais artificiais do tipo multilayer perceptron para endereçar esta tarefa.\n",
    "\n",
    "Cada equipe deve produzir um Jupyter Notebook contendo boas práticas de programação que ilustrem os passos detalhados desta tarefa, com justificativas e comentários sempre que necessários.\n",
    "\n",
    "- Kid Mendes de Oliveira Neto - 1615310011\n",
    "- Wilson Calixto Cordovil Junior - 1515310026"
   ]
  },
  {
   "cell_type": "markdown",
   "metadata": {},
   "source": [
    "#### Importação das Bibliotecas"
   ]
  },
  {
   "cell_type": "code",
   "execution_count": 131,
   "metadata": {
    "collapsed": true
   },
   "outputs": [],
   "source": [
    "import warnings\n",
    "warnings.filterwarnings('ignore')\n",
    "from sklearn.ensemble import ExtraTreesClassifier\n",
    "import pandas as pd\n",
    "import matplotlib.pyplot as plt\n",
    "from sklearn.model_selection import GridSearchCV\n",
    "from sklearn.neural_network import MLPClassifier\n",
    "from math import sqrt\n",
    "from sklearn.cross_validation import train_test_split\n",
    "from sklearn.feature_selection import SelectKBest\n",
    "from sklearn.feature_selection import f_classif\n",
    "from sklearn.feature_selection import RFE\n",
    "%matplotlib inline"
   ]
  },
  {
   "cell_type": "markdown",
   "metadata": {},
   "source": [
    "#### Obtenha o seeds dataset do repositório da Universidade de California em Irvine"
   ]
  },
  {
   "cell_type": "code",
   "execution_count": 132,
   "metadata": {},
   "outputs": [],
   "source": [
    "seeds_dataset = pd.read_csv('train.csv', sep=',')"
   ]
  },
  {
   "cell_type": "markdown",
   "metadata": {},
   "source": [
    "#### Principais  atributo por RFE sem a limpeza dos dados"
   ]
  },
  {
   "cell_type": "code",
   "execution_count": 133,
   "metadata": {},
   "outputs": [],
   "source": [
    "X_t = seeds_dataset.drop(['id','Classification'], axis=1)\n",
    "Y_t = seeds_dataset['Classification']"
   ]
  },
  {
   "cell_type": "code",
   "execution_count": 134,
   "metadata": {},
   "outputs": [
    {
     "data": {
      "text/plain": [
       "['Age', 'Glucose', 'Insulin', 'HOMA', 'Leptin', 'Resistin']"
      ]
     },
     "execution_count": 134,
     "metadata": {},
     "output_type": "execute_result"
    }
   ],
   "source": [
    "modelo = ExtraTreesClassifier()#MLPClassifier\n",
    "era = RFE(modelo, 6)  # número de atributos a seleccionar\n",
    "era = era.fit(X_t, Y_t)\n",
    "\n",
    "columnas = list(X_t.columns.values)\n",
    "atrib = era.support_\n",
    "atributos = [columnas[i] for i in list(atrib.nonzero()[0])]\n",
    "atributos"
   ]
  },
  {
   "cell_type": "markdown",
   "metadata": {},
   "source": [
    "#### Removendo os outliers"
   ]
  },
  {
   "cell_type": "code",
   "execution_count": 136,
   "metadata": {},
   "outputs": [],
   "source": [
    "seeds_dataset=seeds_dataset[~((seeds_dataset-seeds_dataset.mean()).abs() > 3*seeds_dataset.std())]\n",
    "seeds_dataset=seeds_dataset.dropna() "
   ]
  },
  {
   "cell_type": "markdown",
   "metadata": {},
   "source": [
    "#### Avaliando os atributos mais correlacionados com o atributo Classification"
   ]
  },
  {
   "cell_type": "code",
   "execution_count": 137,
   "metadata": {},
   "outputs": [
    {
     "data": {
      "text/html": [
       "<div>\n",
       "<style>\n",
       "    .dataframe thead tr:only-child th {\n",
       "        text-align: right;\n",
       "    }\n",
       "\n",
       "    .dataframe thead th {\n",
       "        text-align: left;\n",
       "    }\n",
       "\n",
       "    .dataframe tbody tr th {\n",
       "        vertical-align: top;\n",
       "    }\n",
       "</style>\n",
       "<table border=\"1\" class=\"dataframe\">\n",
       "  <thead>\n",
       "    <tr style=\"text-align: right;\">\n",
       "      <th></th>\n",
       "      <th>id</th>\n",
       "      <th>Age</th>\n",
       "      <th>BMI</th>\n",
       "      <th>Glucose</th>\n",
       "      <th>Insulin</th>\n",
       "      <th>HOMA</th>\n",
       "      <th>Leptin</th>\n",
       "      <th>Adiponectin</th>\n",
       "      <th>Resistin</th>\n",
       "      <th>MCP.1</th>\n",
       "      <th>Classification</th>\n",
       "    </tr>\n",
       "  </thead>\n",
       "  <tbody>\n",
       "    <tr>\n",
       "      <th>id</th>\n",
       "      <td>1.000000</td>\n",
       "      <td>0.004473</td>\n",
       "      <td>0.066726</td>\n",
       "      <td>-0.029782</td>\n",
       "      <td>0.128761</td>\n",
       "      <td>0.093959</td>\n",
       "      <td>0.009559</td>\n",
       "      <td>-0.089508</td>\n",
       "      <td>0.152130</td>\n",
       "      <td>0.343818</td>\n",
       "      <td>0.034174</td>\n",
       "    </tr>\n",
       "    <tr>\n",
       "      <th>Age</th>\n",
       "      <td>0.004473</td>\n",
       "      <td>1.000000</td>\n",
       "      <td>-0.044149</td>\n",
       "      <td>0.155903</td>\n",
       "      <td>-0.042690</td>\n",
       "      <td>-0.007184</td>\n",
       "      <td>-0.113997</td>\n",
       "      <td>-0.138539</td>\n",
       "      <td>-0.122520</td>\n",
       "      <td>-0.060540</td>\n",
       "      <td>-0.080083</td>\n",
       "    </tr>\n",
       "    <tr>\n",
       "      <th>BMI</th>\n",
       "      <td>0.066726</td>\n",
       "      <td>-0.044149</td>\n",
       "      <td>1.000000</td>\n",
       "      <td>-0.030198</td>\n",
       "      <td>0.261814</td>\n",
       "      <td>0.229877</td>\n",
       "      <td>0.652929</td>\n",
       "      <td>-0.226431</td>\n",
       "      <td>0.266711</td>\n",
       "      <td>0.309810</td>\n",
       "      <td>-0.215404</td>\n",
       "    </tr>\n",
       "    <tr>\n",
       "      <th>Glucose</th>\n",
       "      <td>-0.029782</td>\n",
       "      <td>0.155903</td>\n",
       "      <td>-0.030198</td>\n",
       "      <td>1.000000</td>\n",
       "      <td>0.260198</td>\n",
       "      <td>0.381024</td>\n",
       "      <td>0.036581</td>\n",
       "      <td>0.046483</td>\n",
       "      <td>-0.075517</td>\n",
       "      <td>-0.142863</td>\n",
       "      <td>0.348772</td>\n",
       "    </tr>\n",
       "    <tr>\n",
       "      <th>Insulin</th>\n",
       "      <td>0.128761</td>\n",
       "      <td>-0.042690</td>\n",
       "      <td>0.261814</td>\n",
       "      <td>0.260198</td>\n",
       "      <td>1.000000</td>\n",
       "      <td>0.987672</td>\n",
       "      <td>0.329513</td>\n",
       "      <td>0.147855</td>\n",
       "      <td>0.150615</td>\n",
       "      <td>0.168057</td>\n",
       "      <td>0.180136</td>\n",
       "    </tr>\n",
       "    <tr>\n",
       "      <th>HOMA</th>\n",
       "      <td>0.093959</td>\n",
       "      <td>-0.007184</td>\n",
       "      <td>0.229877</td>\n",
       "      <td>0.381024</td>\n",
       "      <td>0.987672</td>\n",
       "      <td>1.000000</td>\n",
       "      <td>0.304393</td>\n",
       "      <td>0.158995</td>\n",
       "      <td>0.122766</td>\n",
       "      <td>0.129263</td>\n",
       "      <td>0.207737</td>\n",
       "    </tr>\n",
       "    <tr>\n",
       "      <th>Leptin</th>\n",
       "      <td>0.009559</td>\n",
       "      <td>-0.113997</td>\n",
       "      <td>0.652929</td>\n",
       "      <td>0.036581</td>\n",
       "      <td>0.329513</td>\n",
       "      <td>0.304393</td>\n",
       "      <td>1.000000</td>\n",
       "      <td>-0.067030</td>\n",
       "      <td>0.315475</td>\n",
       "      <td>0.220680</td>\n",
       "      <td>-0.071767</td>\n",
       "    </tr>\n",
       "    <tr>\n",
       "      <th>Adiponectin</th>\n",
       "      <td>-0.089508</td>\n",
       "      <td>-0.138539</td>\n",
       "      <td>-0.226431</td>\n",
       "      <td>0.046483</td>\n",
       "      <td>0.147855</td>\n",
       "      <td>0.158995</td>\n",
       "      <td>-0.067030</td>\n",
       "      <td>1.000000</td>\n",
       "      <td>-0.148103</td>\n",
       "      <td>-0.146915</td>\n",
       "      <td>0.118205</td>\n",
       "    </tr>\n",
       "    <tr>\n",
       "      <th>Resistin</th>\n",
       "      <td>0.152130</td>\n",
       "      <td>-0.122520</td>\n",
       "      <td>0.266711</td>\n",
       "      <td>-0.075517</td>\n",
       "      <td>0.150615</td>\n",
       "      <td>0.122766</td>\n",
       "      <td>0.315475</td>\n",
       "      <td>-0.148103</td>\n",
       "      <td>1.000000</td>\n",
       "      <td>0.425551</td>\n",
       "      <td>0.275497</td>\n",
       "    </tr>\n",
       "    <tr>\n",
       "      <th>MCP.1</th>\n",
       "      <td>0.343818</td>\n",
       "      <td>-0.060540</td>\n",
       "      <td>0.309810</td>\n",
       "      <td>-0.142863</td>\n",
       "      <td>0.168057</td>\n",
       "      <td>0.129263</td>\n",
       "      <td>0.220680</td>\n",
       "      <td>-0.146915</td>\n",
       "      <td>0.425551</td>\n",
       "      <td>1.000000</td>\n",
       "      <td>-0.092911</td>\n",
       "    </tr>\n",
       "    <tr>\n",
       "      <th>Classification</th>\n",
       "      <td>0.034174</td>\n",
       "      <td>-0.080083</td>\n",
       "      <td>-0.215404</td>\n",
       "      <td>0.348772</td>\n",
       "      <td>0.180136</td>\n",
       "      <td>0.207737</td>\n",
       "      <td>-0.071767</td>\n",
       "      <td>0.118205</td>\n",
       "      <td>0.275497</td>\n",
       "      <td>-0.092911</td>\n",
       "      <td>1.000000</td>\n",
       "    </tr>\n",
       "  </tbody>\n",
       "</table>\n",
       "</div>"
      ],
      "text/plain": [
       "                      id       Age       BMI   Glucose   Insulin      HOMA  \\\n",
       "id              1.000000  0.004473  0.066726 -0.029782  0.128761  0.093959   \n",
       "Age             0.004473  1.000000 -0.044149  0.155903 -0.042690 -0.007184   \n",
       "BMI             0.066726 -0.044149  1.000000 -0.030198  0.261814  0.229877   \n",
       "Glucose        -0.029782  0.155903 -0.030198  1.000000  0.260198  0.381024   \n",
       "Insulin         0.128761 -0.042690  0.261814  0.260198  1.000000  0.987672   \n",
       "HOMA            0.093959 -0.007184  0.229877  0.381024  0.987672  1.000000   \n",
       "Leptin          0.009559 -0.113997  0.652929  0.036581  0.329513  0.304393   \n",
       "Adiponectin    -0.089508 -0.138539 -0.226431  0.046483  0.147855  0.158995   \n",
       "Resistin        0.152130 -0.122520  0.266711 -0.075517  0.150615  0.122766   \n",
       "MCP.1           0.343818 -0.060540  0.309810 -0.142863  0.168057  0.129263   \n",
       "Classification  0.034174 -0.080083 -0.215404  0.348772  0.180136  0.207737   \n",
       "\n",
       "                  Leptin  Adiponectin  Resistin     MCP.1  Classification  \n",
       "id              0.009559    -0.089508  0.152130  0.343818        0.034174  \n",
       "Age            -0.113997    -0.138539 -0.122520 -0.060540       -0.080083  \n",
       "BMI             0.652929    -0.226431  0.266711  0.309810       -0.215404  \n",
       "Glucose         0.036581     0.046483 -0.075517 -0.142863        0.348772  \n",
       "Insulin         0.329513     0.147855  0.150615  0.168057        0.180136  \n",
       "HOMA            0.304393     0.158995  0.122766  0.129263        0.207737  \n",
       "Leptin          1.000000    -0.067030  0.315475  0.220680       -0.071767  \n",
       "Adiponectin    -0.067030     1.000000 -0.148103 -0.146915        0.118205  \n",
       "Resistin        0.315475    -0.148103  1.000000  0.425551        0.275497  \n",
       "MCP.1           0.220680    -0.146915  0.425551  1.000000       -0.092911  \n",
       "Classification -0.071767     0.118205  0.275497 -0.092911        1.000000  "
      ]
     },
     "execution_count": 137,
     "metadata": {},
     "output_type": "execute_result"
    }
   ],
   "source": [
    "seeds_dataset.corr(method='pearson')"
   ]
  },
  {
   "cell_type": "markdown",
   "metadata": {},
   "source": [
    "#### Principais  atributo por pearson"
   ]
  },
  {
   "cell_type": "markdown",
   "metadata": {},
   "source": [
    "Atributos que serao eliminados: MCP.1\t  Adiponectin\t Leptin Age  id Classification\n",
    "\n",
    "atributos que serao usados: BMI\tGlucose\tInsulin\tHOMA\tResistin"
   ]
  },
  {
   "cell_type": "markdown",
   "metadata": {},
   "source": [
    "#### Efetue a partição do dataset "
   ]
  },
  {
   "cell_type": "code",
   "execution_count": 180,
   "metadata": {},
   "outputs": [],
   "source": [
    "X_train = seeds_dataset.drop(['MCP.1','Adiponectin','Leptin','Age','Classification'], axis=1)"
   ]
  },
  {
   "cell_type": "code",
   "execution_count": 181,
   "metadata": {
    "collapsed": true
   },
   "outputs": [],
   "source": [
    "Y_train = seeds_dataset['Classification']"
   ]
  },
  {
   "cell_type": "markdown",
   "metadata": {},
   "source": [
    "#### Principais atributo por RFE COM  a limpeza dos dados"
   ]
  },
  {
   "cell_type": "code",
   "execution_count": 182,
   "metadata": {},
   "outputs": [
    {
     "data": {
      "text/plain": [
       "['id', 'BMI', 'Glucose', 'Insulin', 'HOMA', 'Resistin']"
      ]
     },
     "execution_count": 182,
     "metadata": {},
     "output_type": "execute_result"
    }
   ],
   "source": [
    "modelo = ExtraTreesClassifier()#MLPClassifier\n",
    "era = RFE(modelo, 6)  # número de atributos a seleccionar\n",
    "era = era.fit(X_train, Y_train)\n",
    "\n",
    "columnas = list(X_train.columns.values)\n",
    "atrib = era.support_\n",
    "atributos = [columnas[i] for i in list(atrib.nonzero()[0])]\n",
    "atributos"
   ]
  },
  {
   "cell_type": "code",
   "execution_count": 183,
   "metadata": {},
   "outputs": [
    {
     "data": {
      "text/html": [
       "<div>\n",
       "<style>\n",
       "    .dataframe thead tr:only-child th {\n",
       "        text-align: right;\n",
       "    }\n",
       "\n",
       "    .dataframe thead th {\n",
       "        text-align: left;\n",
       "    }\n",
       "\n",
       "    .dataframe tbody tr th {\n",
       "        vertical-align: top;\n",
       "    }\n",
       "</style>\n",
       "<table border=\"1\" class=\"dataframe\">\n",
       "  <thead>\n",
       "    <tr style=\"text-align: right;\">\n",
       "      <th></th>\n",
       "      <th>id</th>\n",
       "      <th>BMI</th>\n",
       "      <th>Glucose</th>\n",
       "      <th>Insulin</th>\n",
       "      <th>HOMA</th>\n",
       "      <th>Resistin</th>\n",
       "    </tr>\n",
       "  </thead>\n",
       "  <tbody>\n",
       "    <tr>\n",
       "      <th>2</th>\n",
       "      <td>90</td>\n",
       "      <td>22.8600</td>\n",
       "      <td>82.0</td>\n",
       "      <td>4.090</td>\n",
       "      <td>0.8273</td>\n",
       "      <td>5.1400</td>\n",
       "    </tr>\n",
       "    <tr>\n",
       "      <th>3</th>\n",
       "      <td>8</td>\n",
       "      <td>24.2188</td>\n",
       "      <td>86.0</td>\n",
       "      <td>3.730</td>\n",
       "      <td>0.7913</td>\n",
       "      <td>10.3446</td>\n",
       "    </tr>\n",
       "    <tr>\n",
       "      <th>5</th>\n",
       "      <td>20</td>\n",
       "      <td>20.7600</td>\n",
       "      <td>86.0</td>\n",
       "      <td>7.553</td>\n",
       "      <td>1.6000</td>\n",
       "      <td>7.6400</td>\n",
       "    </tr>\n",
       "    <tr>\n",
       "      <th>6</th>\n",
       "      <td>47</td>\n",
       "      <td>26.6728</td>\n",
       "      <td>97.0</td>\n",
       "      <td>22.033</td>\n",
       "      <td>5.2718</td>\n",
       "      <td>27.8325</td>\n",
       "    </tr>\n",
       "    <tr>\n",
       "      <th>7</th>\n",
       "      <td>2</td>\n",
       "      <td>29.3848</td>\n",
       "      <td>90.0</td>\n",
       "      <td>4.713</td>\n",
       "      <td>1.0463</td>\n",
       "      <td>15.5562</td>\n",
       "    </tr>\n",
       "  </tbody>\n",
       "</table>\n",
       "</div>"
      ],
      "text/plain": [
       "   id      BMI  Glucose  Insulin    HOMA  Resistin\n",
       "2  90  22.8600     82.0    4.090  0.8273    5.1400\n",
       "3   8  24.2188     86.0    3.730  0.7913   10.3446\n",
       "5  20  20.7600     86.0    7.553  1.6000    7.6400\n",
       "6  47  26.6728     97.0   22.033  5.2718   27.8325\n",
       "7   2  29.3848     90.0    4.713  1.0463   15.5562"
      ]
     },
     "execution_count": 183,
     "metadata": {},
     "output_type": "execute_result"
    }
   ],
   "source": [
    "X_train.head()"
   ]
  },
  {
   "cell_type": "markdown",
   "metadata": {},
   "source": [
    "#### Utilizar a regra da pirâmide geométrica para identificar o número de neurônios nas camadas ocultas"
   ]
  },
  {
   "cell_type": "code",
   "execution_count": 184,
   "metadata": {
    "collapsed": true
   },
   "outputs": [],
   "source": [
    "def geometric_pyramid(alpha, ni, no):\n",
    "    return int(alpha * sqrt(ni*no))"
   ]
  },
  {
   "cell_type": "markdown",
   "metadata": {},
   "source": [
    "#### Preparando os parâmetros o qual deve variar a função de ativação e o número de neurônios nas camadas ocultas."
   ]
  },
  {
   "cell_type": "code",
   "execution_count": 186,
   "metadata": {
    "collapsed": true
   },
   "outputs": [],
   "source": [
    "#Quantidade de neurônios em cada camada oculta. Ex: (13,), (2,), (6,7), (9,)\n",
    "hidden_layer_sizes = [\n",
    "\n",
    "    (12, 7),\n",
    "    (3, 7)\n",
    "    \n",
    "]\n",
    "\n",
    "#Dicionário que servirá para a variação dos parâmetros na Rede Neural\n",
    "param_grid = {\n",
    "    'activation': ['identity', 'logistic', 'tanh', 'relu'],\n",
    "    'hidden_layer_sizes': hidden_layer_sizes,\n",
    "    'learning_rate_init': [0.01, 0.001, 0.0005, 0.0001],\n",
    "}"
   ]
  },
  {
   "cell_type": "markdown",
   "metadata": {},
   "source": [
    "# MAIN"
   ]
  },
  {
   "cell_type": "code",
   "execution_count": 190,
   "metadata": {},
   "outputs": [],
   "source": [
    "new_data_test = pd.read_csv('test.csv', sep=',')\n",
    "\n",
    "mlp = MLPClassifier(activation='identity',solver='lbfgs', alpha=0.0005,hidden_layer_sizes=(3, 7), random_state=1)\n",
    "mlp.fit(X_train, Y_train)\n",
    "new_data_test=new_data_test.drop(['MCP.1','Adiponectin','Leptin','Age'], axis=1)\n",
    "\n",
    "\n",
    "ids=new_data_test['id']\n",
    "serie=mlp.predict(new_data_test)\n",
    "\n",
    "d = { 'id': ids, 'Classification': serie}\n",
    "sub = pd.DataFrame(data=d)\n",
    "sub.to_csv('sub.csv', index=False)\n",
    "\n"
   ]
  },
  {
   "cell_type": "markdown",
   "metadata": {},
   "source": [
    "#### Busca em grade utilizando o solver lbfgs"
   ]
  },
  {
   "cell_type": "code",
   "execution_count": 189,
   "metadata": {},
   "outputs": [
    {
     "name": "stdout",
     "output_type": "stream",
     "text": [
      "Função de ativação: identity\n",
      "Quantidade de neurônios nas camadas ocultas: (3, 7)\n",
      "Taxa de Aprendizagem: 0.0005\n",
      "Melhor acurácia: 0.706268418956591\n"
     ]
    }
   ],
   "source": [
    "mlp = MLPClassifier(solver='lbfgs')\n",
    "#grid_lbfgs = GridSearchCV(mlp, param_grid, cv=3, scoring='accuracy')\n",
    "grid_lbfgs = GridSearchCV(mlp, param_grid, cv=3, scoring='f1')\n",
    "grid_lbfgs.fit(X_train, Y_train)\n",
    "\n",
    "print(\"Função de ativação: {}\\nQuantidade de neurônios nas camadas ocultas: {}\\nTaxa de Aprendizagem: {}\\nMelhor acurácia: {}\"\n",
    "      .format(grid_lbfgs.best_params_['activation'], grid_lbfgs.best_params_['hidden_layer_sizes'],\n",
    "              grid_lbfgs.best_params_['learning_rate_init'], grid_lbfgs.best_score_))"
   ]
  },
  {
   "cell_type": "markdown",
   "metadata": {},
   "source": [
    "#### Busca em grade utilizando o solver sgd"
   ]
  },
  {
   "cell_type": "code",
   "execution_count": 147,
   "metadata": {},
   "outputs": [
    {
     "name": "stdout",
     "output_type": "stream",
     "text": [
      "Função de ativação: identity\n",
      "Quantidade de neurônios nas camadas ocultas: (3, 7)\n",
      "Taxa de Aprendizagem: 0.01\n",
      "Melhor acurácia: 0.6956017069701281\n"
     ]
    }
   ],
   "source": [
    "mlp = MLPClassifier(solver='sgd')\n",
    "grid_sgd = GridSearchCV(mlp, param_grid, cv=3, scoring='f1')\n",
    "grid_sgd.fit(X_train, Y_train)\n",
    "\n",
    "print(\"Função de ativação: {}\\nQuantidade de neurônios nas camadas ocultas: {}\\nTaxa de Aprendizagem: {}\\nMelhor acurácia: {}\"\n",
    "      .format(grid_sgd.best_params_['activation'], grid_sgd.best_params_['hidden_layer_sizes'],\n",
    "              grid_sgd.best_params_['learning_rate_init'], grid_sgd.best_score_))"
   ]
  },
  {
   "cell_type": "markdown",
   "metadata": {},
   "source": [
    "#### Busca em grade utilizando o solver adam"
   ]
  },
  {
   "cell_type": "code",
   "execution_count": 148,
   "metadata": {},
   "outputs": [
    {
     "name": "stdout",
     "output_type": "stream",
     "text": [
      "Função de ativação: tanh\n",
      "Quantidade de neurônios nas camadas ocultas: (12, 7)\n",
      "Taxa de Aprendizagem: 0.0005\n",
      "Melhor acurácia: 0.7488416422287391\n"
     ]
    }
   ],
   "source": [
    "mlp = MLPClassifier(solver='adam')\n",
    "grid_adam = GridSearchCV(mlp, param_grid, cv=3, scoring='f1')\n",
    "grid_adam.fit(X_train, Y_train)\n",
    "\n",
    "print(\"Função de ativação: {}\\nQuantidade de neurônios nas camadas ocultas: {}\\nTaxa de Aprendizagem: {}\\nMelhor acurácia: {}\"\n",
    "      .format(grid_adam.best_params_['activation'], grid_adam.best_params_['hidden_layer_sizes'],\n",
    "              grid_adam.best_params_['learning_rate_init'], grid_adam.best_score_))"
   ]
  },
  {
   "cell_type": "markdown",
   "metadata": {},
   "source": [
    "# Resultados"
   ]
  },
  {
   "cell_type": "raw",
   "metadata": {},
   "source": [
    "resultados sem a limpeza dos dados:\n",
    "\n",
    "Função de ativação: identity\n",
    "Quantidade de neurônios nas camadas ocultas: (2, 3)\n",
    "Taxa de Aprendizagem: 0.001\n",
    "Melhor acurácia: 0.7120853063204468\n",
    "\n",
    "Função de ativação: logistic\n",
    "Quantidade de neurônios nas camadas ocultas: (9, 3)\n",
    "Taxa de Aprendizagem: 0.01\n",
    "Melhor acurácia: 0.712143928035982\n",
    "    \n",
    "Função de ativação: identity\n",
    "Quantidade de neurônios nas camadas ocultas: (3, 9)\n",
    "Taxa de Aprendizagem: 0.001\n",
    "Melhor f1: 0.7186729216037143\n",
    "\n",
    "\n",
    "    \n",
    "Função de ativação: logistic\n",
    "Quantidade de neurônios nas camadas ocultas: (7, 7)\n",
    "Taxa de Aprendizagem: 0.01\n",
    "Melhor f1: 0.7218149167174654    \n",
    "    \n",
    "\n",
    "    \n",
    "Função de ativação: identity\n",
    "Quantidade de neurônios nas camadas ocultas: (5, 3)\n",
    "Taxa de Aprendizagem: 0.0001\n",
    "Melhor f1: 0.725933908045977\n",
    "    \n",
    "    \n",
    "Função de ativação: identity\n",
    "Quantidade de neurônios nas camadas ocultas: (4, 6)\n",
    "Taxa de Aprendizagem: 0.0001\n",
    "Melhor f1: 0.725933908045977\n",
    "    \n",
    "    \n",
    "#melhor custo beneficio    \n",
    "Função de ativação: logistic\n",
    "Quantidade de neurônios nas camadas ocultas: (6, 4)\n",
    "Taxa de Aprendizagem: 0.001\n",
    "Melhor f1: 0.7411419502472872\n",
    "\n",
    "    \n",
    "    \n",
    "Função de ativação: relu\n",
    "Quantidade de neurônios nas camadas ocultas: (12, 7)\n",
    "Taxa de Aprendizagem: 0.0001\n",
    "Melhor f1: 0.7505175983436851    \n",
    "    \n",
    "Função de ativação: logistic\n",
    "Quantidade de neurônios nas camadas ocultas: (10, 7) \n",
    "Taxa de Aprendizagem: 0.0001\n",
    "Melhor f1: 0.7551801022565641\n",
    "    \n",
    "Função de ativação: relu\n",
    "Quantidade de neurônios nas camadas ocultas: (17, 7)\n",
    "Taxa de Aprendizagem: 0.0005\n",
    "Melhor f1: 0.7556119301053286\n",
    "\n",
    "#   (17, 7),(10, 7),(12, 7),(6, 4),(4, 6),(5, 3)\n",
    "\n",
    "resultados com a limpeza dos dados e com out-liers:\n",
    "    \n",
    "\n",
    "    \n",
    "    \n",
    "Função de ativação: logistic\n",
    "Quantidade de neurônios nas camadas ocultas: (12, 7)\n",
    "Taxa de Aprendizagem: 0.0005\n",
    "Melhor f1: 0.718070906009195\n",
    "    \n",
    "    \n",
    "Função de ativação: relu\n",
    "Quantidade de neurônios nas camadas ocultas: (3, 7)\n",
    "Taxa de Aprendizagem: 0.0001\n",
    "Melhor f1: 0.7181409295352325\n",
    "    \n",
    "    \n",
    "resultados com a limpeza dos dados e sem out-liers:\n",
    "    \n",
    "Função de ativação: tanh\n",
    "Quantidade de neurônios nas camadas ocultas: (12, 7)\n",
    "Taxa de Aprendizagem: 0.0005\n",
    "Melhor acurácia: 0.7488416422287391\n",
    "\n",
    "Função de ativação: relu\n",
    "Quantidade de neurônios nas camadas ocultas: (12, 7)\n",
    "Taxa de Aprendizagem: 0.001\n",
    "Melhor f1: 0.7632407407407407"
   ]
  }
 ],
 "metadata": {
  "kernelspec": {
   "display_name": "Python 3",
   "language": "python",
   "name": "python3"
  },
  "language_info": {
   "codemirror_mode": {
    "name": "ipython",
    "version": 3
   },
   "file_extension": ".py",
   "mimetype": "text/x-python",
   "name": "python",
   "nbconvert_exporter": "python",
   "pygments_lexer": "ipython3",
   "version": "3.6.3"
  }
 },
 "nbformat": 4,
 "nbformat_minor": 2
}
